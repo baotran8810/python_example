{
 "cells": [
  {
   "cell_type": "markdown",
   "id": "0e92a989",
   "metadata": {},
   "source": [
    "# Object-Oriented Programming (OOP) in Python\n",
    "This notebook introduces Object-Oriented Programming (OOP) concepts in Python."
   ]
  },
  {
   "cell_type": "markdown",
   "id": "62dd79b1",
   "metadata": {},
   "source": [
    "## 1. Classes and Objects\n",
    "A class is a blueprint for creating objects. An object is an instance of a class."
   ]
  },
  {
   "cell_type": "code",
   "execution_count": null,
   "id": "e4447edd",
   "metadata": {},
   "outputs": [],
   "source": [
    "class Car:\n",
    "    def __init__(self, brand, model, year):\n",
    "        self.brand = brand\n",
    "        self.model = model\n",
    "        self.year = year\n",
    "\n",
    "    def display_info(self):\n",
    "        return f'{self.year} {self.brand} {self.model}'\n",
    "\n",
    "# Creating an object\n",
    "car1 = Car('Toyota', 'Corolla', 2022)\n",
    "print(car1.display_info())"
   ]
  },
  {
   "cell_type": "markdown",
   "id": "819ace81",
   "metadata": {},
   "source": [
    "## 2. Inheritance\n",
    "Inheritance allows a class (child) to inherit attributes and methods from another class (parent)."
   ]
  },
  {
   "cell_type": "code",
   "execution_count": null,
   "id": "2106ff46",
   "metadata": {},
   "outputs": [],
   "source": [
    "class ElectricCar(Car):\n",
    "    def __init__(self, brand, model, year, battery_size):\n",
    "        super().__init__(brand, model, year)\n",
    "        self.battery_size = battery_size\n",
    "\n",
    "    def display_battery(self):\n",
    "        return f'Battery size: {self.battery_size} kWh'\n",
    "\n",
    "# Creating an object of the child class\n",
    "ev1 = ElectricCar('Tesla', 'Model S', 2023, 100)\n",
    "print(ev1.display_info())\n",
    "print(ev1.display_battery())"
   ]
  },
  {
   "cell_type": "markdown",
   "id": "98a52476",
   "metadata": {},
   "source": [
    "## 3. Encapsulation\n",
    "Encapsulation restricts direct access to some attributes, allowing control over their modification."
   ]
  },
  {
   "cell_type": "code",
   "execution_count": null,
   "id": "6e1d3b14",
   "metadata": {},
   "outputs": [],
   "source": [
    "class BankAccount:\n",
    "    def __init__(self, owner, balance):\n",
    "        self.owner = owner\n",
    "        self.__balance = balance  # Private attribute\n",
    "\n",
    "    def deposit(self, amount):\n",
    "        self.__balance += amount\n",
    "        return f'Deposited {amount}. New balance: {self.__balance}'\n",
    "\n",
    "    def withdraw(self, amount):\n",
    "        if amount <= self.__balance:\n",
    "            self.__balance -= amount\n",
    "            return f'Withdrew {amount}. Remaining balance: {self.__balance}'\n",
    "        else:\n",
    "            return 'Insufficient funds'\n",
    "\n",
    "# Creating an object\n",
    "account = BankAccount('John Doe', 1000)\n",
    "print(account.deposit(500))\n",
    "print(account.withdraw(300))"
   ]
  },
  {
   "cell_type": "markdown",
   "id": "9b7da2aa",
   "metadata": {},
   "source": [
    "## 4. Polymorphism\n",
    "Polymorphism allows methods in different classes to have the same name but behave differently."
   ]
  },
  {
   "cell_type": "code",
   "execution_count": null,
   "id": "9d7b49c5",
   "metadata": {},
   "outputs": [],
   "source": [
    "class Dog:\n",
    "    def speak(self):\n",
    "        return 'Woof!'\n",
    "\n",
    "class Cat:\n",
    "    def speak(self):\n",
    "        return 'Meow!'\n",
    "\n",
    "# Using polymorphism\n",
    "animals = [Dog(), Cat()]\n",
    "for animal in animals:\n",
    "    print(animal.speak())"
   ]
  },
  {
   "cell_type": "code",
   "execution_count": null,
   "id": "bb1b0ac5",
   "metadata": {},
   "outputs": [],
   "source": [
    "class Robot:\n",
    "    \"\"\"Represents a robot, with a name.\"\"\"\n",
    "\n",
    "    # A class variable, counting the number of robots\n",
    "    population = 0\n",
    "\n",
    "    def __init__(self, name):\n",
    "        \"\"\"Initializes the data.\"\"\"\n",
    "        self.name = name\n",
    "        print(\"(Initializing {})\".format(self.name))\n",
    "\n",
    "        # When this person is created, the robot\n",
    "        # adds to the population\n",
    "        Robot.population += 1\n",
    "\n",
    "    def die(self):\n",
    "        \"\"\"I am dying.\"\"\"\n",
    "        print(\"{} is being destroyed!\".format(self.name))\n",
    "\n",
    "        Robot.population -= 1\n",
    "\n",
    "        if Robot.population == 0:\n",
    "            print(\"{} was the last one.\".format(self.name))\n",
    "        else:\n",
    "            print(\"There are still {:d} robots working.\".format(\n",
    "                Robot.population))\n",
    "\n",
    "    def say_hi(self):\n",
    "        \"\"\"Greeting by the robot.\n",
    "\n",
    "        Yeah, they can do that.\"\"\"\n",
    "        print(\"Greetings, my masters call me {}.\".format(self.name))\n",
    "\n",
    "    @classmethod\n",
    "    def how_many(cls):\n",
    "        \"\"\"Prints the current population.\"\"\"\n",
    "        print(\"We have {:d} robots.\".format(cls.population))\n",
    "\n",
    "\n",
    "droid1 = Robot(\"R2-D2\")\n",
    "droid1.say_hi()\n",
    "Robot.how_many()\n",
    "\n",
    "droid2 = Robot(\"C-3PO\")\n",
    "droid2.say_hi()\n",
    "Robot.how_many()\n",
    "\n",
    "print(\"\\nRobots can do some work here.\\n\")\n",
    "\n",
    "print(\"Robots have finished their work. So let's destroy them.\")\n",
    "droid1.die()\n",
    "droid2.die()\n",
    "\n",
    "Robot.how_many()"
   ]
  },
  {
   "cell_type": "markdown",
   "id": "a5752c87",
   "metadata": {},
   "source": [
    "## Summary\n",
    "- **Classes & Objects**: Used to create reusable code structures.\n",
    "- **Inheritance**: Enables one class to inherit from another.\n",
    "- **Encapsulation**: Restricts access to internal object details.\n",
    "- **Polymorphism**: Allows methods with the same name to behave differently in different classes.\n",
    "\n",
    "These principles help in writing efficient, reusable, and maintainable code."
   ]
  }
 ],
 "metadata": {
  "language_info": {
   "name": "python"
  }
 },
 "nbformat": 4,
 "nbformat_minor": 5
}
