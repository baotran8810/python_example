{
 "cells": [
  {
   "cell_type": "markdown",
   "metadata": {},
   "source": [
    "# File Creation and Writing\n",
    "Demonstrate creating new files, writing text content, and handling write modes using built-in Python file operations."
   ]
  },
  {
   "cell_type": "code",
   "execution_count": null,
   "metadata": {},
   "outputs": [
    {
     "name": "stdout",
     "output_type": "stream",
     "text": [
      "Hello, this is a test file.\n",
      "This file is created to demonstrate file writing in Python.\n",
      "Appending a new line to the file.\n",
      "\n"
     ]
    }
   ],
   "source": [
    "# File Creation and Writing\n",
    "\n",
    "# Create a new file and write text content to it\n",
    "with open('example.txt', 'w') as file:\n",
    "    file.write('Hello, this is a test file.\\n')\n",
    "    file.write('This file is created to demonstrate file writing in Python.\\n')\n",
    "\n",
    "# Append text content to the existing file\n",
    "with open('example.txt', 'a') as file:\n",
    "    file.write('Appending a new line to the file.\\n')\n",
    "\n",
    "# Read and display the content of the file to verify the write operations\n",
    "with open('example.txt', 'r') as file:\n",
    "    content = file.read()\n",
    "    print(content)"
   ]
  },
  {
   "cell_type": "markdown",
   "metadata": {},
   "source": [
    "# File Reading Operations\n",
    "Show different methods to read files including read(), readline(), and readlines(). Include error handling for file operations."
   ]
  },
  {
   "cell_type": "code",
   "execution_count": null,
   "metadata": {},
   "outputs": [],
   "source": [
    "# File Reading Operations\n",
    "\n",
    "# Read the entire content of the file using read()\n",
    "try:\n",
    "    with open('example.txt', 'r') as file:\n",
    "        content = file.read()\n",
    "        print(\"Using read():\\n\", content)\n",
    "except FileNotFoundError:\n",
    "    print(\"The file does not exist.\")\n",
    "except IOError:\n",
    "    print(\"An error occurred while reading the file.\")\n",
    "\n",
    "# Read the first line of the file using readline()\n",
    "try:\n",
    "    with open('example.txt', 'r') as file:\n",
    "        first_line = file.readline()\n",
    "        print(\"Using readline():\\n\", first_line)\n",
    "except FileNotFoundError:\n",
    "    print(\"The file does not exist.\")\n",
    "except IOError:\n",
    "    print(\"An error occurred while reading the file.\")\n",
    "\n",
    "# Read all lines of the file using readlines()\n",
    "try:\n",
    "    with open('example.txt', 'r') as file:\n",
    "        all_lines = file.readlines()\n",
    "        print(\"Using readlines():\\n\", all_lines)\n",
    "except FileNotFoundError:\n",
    "    print(\"The file does not exist.\")\n",
    "except IOError:\n",
    "    print(\"An error occurred while reading the file.\")"
   ]
  },
  {
   "cell_type": "markdown",
   "metadata": {},
   "source": [
    "# File Path Manipulation\n",
    "Use os.path and pathlib to handle file paths, create directories, and manage file locations cross-platform."
   ]
  },
  {
   "cell_type": "code",
   "execution_count": null,
   "metadata": {},
   "outputs": [],
   "source": [
    "# File Path Manipulation\n",
    "\n",
    "import os\n",
    "from pathlib import Path\n",
    "\n",
    "# Get the current working directory\n",
    "current_directory = os.getcwd()\n",
    "print(f\"Current Directory: {current_directory}\")\n",
    "\n",
    "# Create a new directory using os.makedirs\n",
    "new_directory = os.path.join(current_directory, 'new_folder')\n",
    "os.makedirs(new_directory, exist_ok=True)\n",
    "print(f\"New Directory Created: {new_directory}\")\n",
    "\n",
    "# Create a new directory using pathlib\n",
    "pathlib_directory = Path(current_directory) / 'pathlib_folder'\n",
    "pathlib_directory.mkdir(parents=True, exist_ok=True)\n",
    "print(f\"Pathlib Directory Created: {pathlib_directory}\")\n",
    "\n",
    "# Join paths using os.path.join\n",
    "file_path = os.path.join(new_directory, 'example.txt')\n",
    "print(f\"File Path using os.path.join: {file_path}\")\n",
    "\n",
    "# Join paths using pathlib\n",
    "pathlib_file_path = pathlib_directory / 'example.txt'\n",
    "print(f\"File Path using pathlib: {pathlib_file_path}\")\n",
    "\n",
    "# Check if the file exists using os.path.exists\n",
    "file_exists = os.path.exists(file_path)\n",
    "print(f\"Does the file exist (os.path.exists)? {file_exists}\")\n",
    "\n",
    "# Check if the file exists using pathlib\n",
    "pathlib_file_exists = pathlib_file_path.exists()\n",
    "print(f\"Does the file exist (pathlib)? {pathlib_file_exists}\")\n",
    "\n",
    "# Get the absolute path of the file using os.path.abspath\n",
    "absolute_path = os.path.abspath(file_path)\n",
    "print(f\"Absolute Path using os.path.abspath: {absolute_path}\")\n",
    "\n",
    "# Get the absolute path of the file using pathlib\n",
    "pathlib_absolute_path = pathlib_file_path.resolve()\n",
    "print(f\"Absolute Path using pathlib: {pathlib_absolute_path}\")"
   ]
  },
  {
   "cell_type": "markdown",
   "metadata": {},
   "source": [
    "# Working with CSV Files\n",
    "Demonstrate reading and writing CSV files using the csv module and pandas DataFrame."
   ]
  },
  {
   "cell_type": "code",
   "execution_count": null,
   "metadata": {},
   "outputs": [],
   "source": [
    "# Working with CSV Files\n",
    "\n",
    "# Import necessary libraries\n",
    "import csv\n",
    "import pandas as pd\n",
    "\n",
    "# Create a CSV file and write data to it using the csv module\n",
    "with open('example.csv', 'w', newline='') as csvfile:\n",
    "    csvwriter = csv.writer(csvfile)\n",
    "    csvwriter.writerow(['Name', 'Age', 'City'])\n",
    "    csvwriter.writerow(['Alice', 30, 'New York'])\n",
    "    csvwriter.writerow(['Bob', 25, 'Los Angeles'])\n",
    "    csvwriter.writerow(['Charlie', 35, 'Chicago'])\n",
    "\n",
    "# Read and display the content of the CSV file using the csv module\n",
    "with open('example.csv', 'r') as csvfile:\n",
    "    csvreader = csv.reader(csvfile)\n",
    "    for row in csvreader:\n",
    "        print(row)\n",
    "\n",
    "# Create a DataFrame and write it to a CSV file using pandas\n",
    "data = {\n",
    "    'Name': ['David', 'Eva', 'Frank'],\n",
    "    'Age': [40, 28, 33],\n",
    "    'City': ['San Francisco', 'Boston', 'Seattle']\n",
    "}\n",
    "df = pd.DataFrame(data)\n",
    "df.to_csv('example_pandas.csv', index=False)\n",
    "\n",
    "# Read and display the content of the CSV file using pandas\n",
    "df_read = pd.read_csv('example_pandas.csv')\n",
    "print(df_read)"
   ]
  },
  {
   "cell_type": "markdown",
   "metadata": {},
   "source": [
    "# JSON File Handling\n",
    "Show how to read and write JSON files, including data serialization and deserialization."
   ]
  },
  {
   "cell_type": "code",
   "execution_count": null,
   "metadata": {},
   "outputs": [],
   "source": [
    "# JSON File Handling\n",
    "\n",
    "import json\n",
    "\n",
    "# Data to be written to JSON file\n",
    "data = {\n",
    "    \"name\": \"John Doe\",\n",
    "    \"age\": 30,\n",
    "    \"city\": \"New York\",\n",
    "    \"is_student\": False,\n",
    "    \"courses\": [\"Math\", \"Science\", \"History\"]\n",
    "}\n",
    "\n",
    "# Write data to a JSON file\n",
    "with open('example.json', 'w') as json_file:\n",
    "    json.dump(data, json_file, indent=4)\n",
    "\n",
    "# Read data from the JSON file\n",
    "with open('example.json', 'r') as json_file:\n",
    "    loaded_data = json.load(json_file)\n",
    "    print(\"Loaded JSON data:\\n\", loaded_data)\n",
    "\n",
    "# Serialize data to a JSON formatted string\n",
    "json_string = json.dumps(data, indent=4)\n",
    "print(\"Serialized JSON string:\\n\", json_string)\n",
    "\n",
    "# Deserialize JSON formatted string back to Python object\n",
    "deserialized_data = json.loads(json_string)\n",
    "print(\"Deserialized JSON data:\\n\", deserialized_data)"
   ]
  }
 ],
 "metadata": {
  "kernelspec": {
   "display_name": "Python 3",
   "language": "python",
   "name": "python3"
  },
  "language_info": {
   "codemirror_mode": {
    "name": "ipython",
    "version": 3
   },
   "file_extension": ".py",
   "mimetype": "text/x-python",
   "name": "python",
   "nbconvert_exporter": "python",
   "pygments_lexer": "ipython3",
   "version": "3.10.16"
  }
 },
 "nbformat": 4,
 "nbformat_minor": 2
}
