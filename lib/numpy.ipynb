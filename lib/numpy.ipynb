{
 "cells": [
  {
   "cell_type": "markdown",
   "id": "52d56803",
   "metadata": {},
   "source": [
    "# NumPy Basics in Python\n",
    "This notebook introduces NumPy, a powerful numerical computing library in Python."
   ]
  },
  {
   "cell_type": "markdown",
   "id": "bcb03471",
   "metadata": {},
   "source": [
    "## 1. Installing and Importing NumPy\n",
    "To use NumPy, ensure it is installed using:\n",
    "```python\n",
    "pip install numpy\n",
    "```\n",
    "Then, import it into your Python script:"
   ]
  },
  {
   "cell_type": "code",
   "execution_count": null,
   "id": "e61e53cd",
   "metadata": {},
   "outputs": [],
   "source": [
    "import numpy as np\n",
    "print('NumPy imported successfully!')"
   ]
  },
  {
   "cell_type": "markdown",
   "id": "dc54e523",
   "metadata": {},
   "source": [
    "## 2. Creating NumPy Arrays\n",
    "NumPy arrays are more efficient than Python lists."
   ]
  },
  {
   "cell_type": "code",
   "execution_count": null,
   "id": "5af8d9f7",
   "metadata": {},
   "outputs": [],
   "source": [
    "# Creating arrays\n",
    "arr1 = np.array([1, 2, 3, 4, 5])\n",
    "arr2 = np.zeros((2, 3))  # 2x3 matrix of zeros\n",
    "arr3 = np.ones((3, 3))   # 3x3 matrix of ones\n",
    "arr4 = np.arange(0, 10, 2)  # Values from 0 to 10 with step 2\n",
    "arr5 = np.linspace(0, 1, 5)  # 5 values between 0 and 1\n",
    "\n",
    "print('Array 1:', arr1)\n",
    "print('Array 2:', arr2)\n",
    "print('Array 3:', arr3)\n",
    "print('Array 4:', arr4)\n",
    "print('Array 5:', arr5)"
   ]
  },
  {
   "cell_type": "markdown",
   "id": "dfd2ee8e",
   "metadata": {},
   "source": [
    "## 3. Array Operations\n",
    "NumPy allows element-wise operations."
   ]
  },
  {
   "cell_type": "code",
   "execution_count": null,
   "id": "0062dad2",
   "metadata": {},
   "outputs": [],
   "source": [
    "a = np.array([1, 2, 3])\n",
    "b = np.array([4, 5, 6])\n",
    "\n",
    "print('Addition:', a + b)\n",
    "print('Multiplication:', a * b)\n",
    "print('Exponentiation:', a ** 2)"
   ]
  },
  {
   "cell_type": "markdown",
   "id": "9ea83f73",
   "metadata": {},
   "source": [
    "## 4. Indexing and Slicing\n",
    "NumPy allows accessing elements and slicing arrays."
   ]
  },
  {
   "cell_type": "code",
   "execution_count": null,
   "id": "46321f1c",
   "metadata": {},
   "outputs": [],
   "source": [
    "arr = np.array([10, 20, 30, 40, 50])\n",
    "print('Element at index 2:', arr[2])\n",
    "print('Slice from index 1 to 3:', arr[1:4])"
   ]
  },
  {
   "cell_type": "markdown",
   "id": "27300faf",
   "metadata": {},
   "source": [
    "## 5. Reshaping and Resizing\n",
    "Reshape an array into different dimensions."
   ]
  },
  {
   "cell_type": "code",
   "execution_count": null,
   "id": "1e98f84c",
   "metadata": {},
   "outputs": [],
   "source": [
    "arr = np.arange(1, 10)\n",
    "reshaped_arr = arr.reshape(3, 3)\n",
    "print(reshaped_arr)"
   ]
  },
  {
   "cell_type": "markdown",
   "id": "0d595486",
   "metadata": {},
   "source": [
    "## 6. Broadcasting\n",
    "Broadcasting allows operations between arrays of different shapes."
   ]
  },
  {
   "cell_type": "code",
   "execution_count": null,
   "id": "32620b4b",
   "metadata": {},
   "outputs": [],
   "source": [
    "arr = np.array([[1], [2], [3]])\n",
    "print('Original array:\\n', arr)\n",
    "print('Broadcasted addition:\\n', arr + np.array([10, 20, 30]))"
   ]
  },
  {
   "cell_type": "markdown",
   "id": "3aa6d523",
   "metadata": {},
   "source": [
    "## 7. Mathematical and Statistical Functions\n",
    "NumPy provides useful mathematical operations."
   ]
  },
  {
   "cell_type": "code",
   "execution_count": null,
   "id": "f02edc76",
   "metadata": {},
   "outputs": [],
   "source": [
    "arr = np.array([1, 2, 3, 4, 5])\n",
    "print('Sum:', np.sum(arr))\n",
    "print('Mean:', np.mean(arr))\n",
    "print('Standard Deviation:', np.std(arr))"
   ]
  },
  {
   "cell_type": "markdown",
   "id": "812b2711",
   "metadata": {},
   "source": [
    "## 8. Working with Random Numbers\n",
    "Generate random numbers using NumPy."
   ]
  },
  {
   "cell_type": "code",
   "execution_count": null,
   "id": "a4c8d71b",
   "metadata": {},
   "outputs": [],
   "source": [
    "random_arr = np.random.rand(3, 3)  # 3x3 matrix of random numbers\n",
    "print(random_arr)"
   ]
  },
  {
   "cell_type": "markdown",
   "id": "fdc4f4ad",
   "metadata": {},
   "source": [
    "## Summary\n",
    "- **NumPy Arrays**: More efficient than Python lists.\n",
    "- **Array Operations**: Supports element-wise computations.\n",
    "- **Indexing & Slicing**: Easy element access.\n",
    "- **Reshaping**: Change array structure.\n",
    "- **Broadcasting**: Perform operations on different-sized arrays.\n",
    "- **Math & Statistics**: Built-in functions for numerical analysis.\n",
    "- **Random Numbers**: Generate random data for simulations."
   ]
  },
  {
   "cell_type": "markdown",
   "id": "fc21c9f8",
   "metadata": {},
   "source": [
    "## 9. More Statistical Functions in NumPy\n",
    "NumPy provides various functions for statistical analysis, such as median, variance, percentile, and correlation."
   ]
  },
  {
   "cell_type": "markdown",
   "id": "faa36ec5",
   "metadata": {},
   "source": [
    "### 9.1 Median, Variance, and Percentile\n",
    "- **Median**: Middle value of a dataset.\n",
    "- **Variance**: Measure of spread.\n",
    "- **Percentile**: Value below which a percentage of data falls."
   ]
  },
  {
   "cell_type": "code",
   "execution_count": 9,
   "id": "483ae6aa",
   "metadata": {},
   "outputs": [
    {
     "name": "stdout",
     "output_type": "stream",
     "text": [
      "Median: 5.0\n",
      "Range: 99\n",
      "Standard Deviation: 30.090398780432142\n",
      "Mean: 15.11111111111111\n",
      "Variance: 905.4320987654321\n",
      "90th Percentile: 26.400000000000016\n"
     ]
    }
   ],
   "source": [
    "arr = np.array([1, 2, 3, 4, 5, 6, 7, 8, 100])\n",
    "\n",
    "print('Median:', np.median(arr))\n",
    "print('Range:', np.ptp(arr))\n",
    "print('Standard Deviation:', np.std(arr))\n",
    "print('Mean:', np.mean(arr))\n",
    "print('Variance:', np.var(arr))\n",
    "\n",
    "\n",
    "print('90th Percentile:', np.percentile(arr, 90))"
   ]
  },
  {
   "cell_type": "markdown",
   "id": "9a377d68",
   "metadata": {},
   "source": [
    "### 9.2 Minimum, Maximum, Argmin, and Argmax\n",
    "- **Min/Max**: Find smallest/largest value.\n",
    "- **Argmin/Argmax**: Find index of min/max value."
   ]
  },
  {
   "cell_type": "code",
   "execution_count": null,
   "id": "52bbc220",
   "metadata": {},
   "outputs": [],
   "source": [
    "print('Minimum:', np.min(arr))\n",
    "print('Maximum:', np.max(arr))\n",
    "print('Index of Min:', np.argmin(arr))\n",
    "print('Index of Max:', np.argmax(arr))"
   ]
  },
  {
   "cell_type": "markdown",
   "id": "38555368",
   "metadata": {},
   "source": [
    "### 9.3 Correlation Coefficient & Covariance\n",
    "- **Covariance**: Relationship between two datasets.\n",
    "- **Correlation Coefficient**: Strength and direction of relationship (ranges from -1 to 1)."
   ]
  },
  {
   "cell_type": "code",
   "execution_count": 10,
   "id": "8b9877b8",
   "metadata": {},
   "outputs": [
    {
     "name": "stdout",
     "output_type": "stream",
     "text": [
      "Covariance Matrix:\n",
      " [[ 2.5  5. ]\n",
      " [ 5.  10. ]]\n",
      "Correlation Coefficient:\n",
      " [[1. 1.]\n",
      " [1. 1.]]\n"
     ]
    }
   ],
   "source": [
    "x = np.array([1, 2, 3, 4, 5])\n",
    "y = np.array([2, 4, 6, 8, 10])\n",
    "\n",
    "print('Covariance Matrix:\\n', np.cov(x, y))\n",
    "print('Correlation Coefficient:\\n', np.corrcoef(x, y))"
   ]
  },
  {
   "cell_type": "markdown",
   "id": "d5b5539a",
   "metadata": {},
   "source": [
    "## Updated Summary\n",
    "- **Median & Variance**: Measure central tendency and spread.\n",
    "- **Percentile**: Helps analyze distributions.\n",
    "- **Min/Max, Argmin/Argmax**: Find values and positions.\n",
    "- **Covariance & Correlation**: Measure relationships between datasets."
   ]
  }
 ],
 "metadata": {
  "language_info": {
   "name": "python"
  }
 },
 "nbformat": 4,
 "nbformat_minor": 5
}
