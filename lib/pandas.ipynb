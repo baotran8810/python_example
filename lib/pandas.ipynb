{
 "cells": [
  {
   "cell_type": "markdown",
   "id": "4770f77c",
   "metadata": {},
   "source": [
    "# Pandas Basics in Python\n",
    "This notebook introduces **Pandas**, a powerful library for data analysis and manipulation."
   ]
  },
  {
   "cell_type": "markdown",
   "id": "97830fbc",
   "metadata": {},
   "source": [
    "## 1. Installing and Importing Pandas\n",
    "To use Pandas, install it using:\n",
    "```python\n",
    "pip install pandas\n",
    "```\n",
    "Then, import it into your Python script:"
   ]
  },
  {
   "cell_type": "code",
   "execution_count": 1,
   "id": "dac44c72",
   "metadata": {},
   "outputs": [
    {
     "name": "stdout",
     "output_type": "stream",
     "text": [
      "Pandas imported successfully!\n"
     ]
    }
   ],
   "source": [
    "import pandas as pd\n",
    "import numpy as np\n",
    "print('Pandas imported successfully!')"
   ]
  },
  {
   "cell_type": "markdown",
   "id": "1a03b889",
   "metadata": {},
   "source": [
    "## 2. Creating Pandas Series and DataFrames\n",
    "A **Series** is a one-dimensional labeled array, and a **DataFrame** is a two-dimensional table."
   ]
  },
  {
   "cell_type": "code",
   "execution_count": 2,
   "id": "38eb7006",
   "metadata": {},
   "outputs": [
    {
     "name": "stdout",
     "output_type": "stream",
     "text": [
      "Pandas Series:\n",
      " a    10\n",
      "b    20\n",
      "c    30\n",
      "d    40\n",
      "dtype: int64\n"
     ]
    }
   ],
   "source": [
    "import pandas as pd\n",
    "# Creating a Pandas Series\n",
    "s = pd.Series([10, 20, 30, 40], index=['a', 'b', 'c', 'd'])\n",
    "print('Pandas Series:\\n', s)"
   ]
  },
  {
   "cell_type": "code",
   "execution_count": null,
   "id": "fcb60b04",
   "metadata": {},
   "outputs": [],
   "source": [
    "# Creating a Pandas DataFrame\n",
    "data = {'Name': ['Alice', 'Bob', 'Charlie'],\n",
    "        'Age': [25, 30, 35],\n",
    "        'Salary': [50000, 60000, 70000]}\n",
    "df = pd.DataFrame(data)\n",
    "print('Pandas DataFrame:\\n', df)"
   ]
  },
  {
   "cell_type": "markdown",
   "id": "4459d389",
   "metadata": {},
   "source": [
    "## 3. Reading & Writing Data (CSV, Excel, JSON)\n",
    "Pandas can read/write data from multiple formats."
   ]
  },
  {
   "cell_type": "code",
   "execution_count": null,
   "id": "fb2aa9f1",
   "metadata": {},
   "outputs": [],
   "source": [
    "# Reading a CSV file (Example: 'data.csv')\n",
    "# df = pd.read_csv('data.csv')\n",
    "# Writing to a CSV file\n",
    "# df.to_csv('output.csv', index=False)"
   ]
  },
  {
   "cell_type": "markdown",
   "id": "3df0c487",
   "metadata": {},
   "source": [
    "## 4. Selecting, Filtering & Indexing Data"
   ]
  },
  {
   "cell_type": "code",
   "execution_count": 3,
   "id": "9b4c495b",
   "metadata": {},
   "outputs": [
    {
     "ename": "NameError",
     "evalue": "name 'df' is not defined",
     "output_type": "error",
     "traceback": [
      "\u001b[0;31m---------------------------------------------------------------------------\u001b[0m",
      "\u001b[0;31mNameError\u001b[0m                                 Traceback (most recent call last)",
      "Cell \u001b[0;32mIn[3], line 2\u001b[0m\n\u001b[1;32m      1\u001b[0m \u001b[38;5;66;03m# Selecting a single column\u001b[39;00m\n\u001b[0;32m----> 2\u001b[0m \u001b[38;5;28mprint\u001b[39m(\u001b[43mdf\u001b[49m[\u001b[38;5;124m'\u001b[39m\u001b[38;5;124mName\u001b[39m\u001b[38;5;124m'\u001b[39m])\n\u001b[1;32m      4\u001b[0m \u001b[38;5;66;03m# Selecting multiple columns\u001b[39;00m\n\u001b[1;32m      5\u001b[0m \u001b[38;5;28mprint\u001b[39m(df[[\u001b[38;5;124m'\u001b[39m\u001b[38;5;124mName\u001b[39m\u001b[38;5;124m'\u001b[39m, \u001b[38;5;124m'\u001b[39m\u001b[38;5;124mSalary\u001b[39m\u001b[38;5;124m'\u001b[39m]])\n",
      "\u001b[0;31mNameError\u001b[0m: name 'df' is not defined"
     ]
    }
   ],
   "source": [
    "# Selecting a single column\n",
    "print(df['Name'])\n",
    "\n",
    "# Selecting multiple columns\n",
    "print(df[['Name', 'Salary']])"
   ]
  },
  {
   "cell_type": "code",
   "execution_count": null,
   "id": "7ed25486",
   "metadata": {},
   "outputs": [],
   "source": [
    "# Filtering data\n",
    "filtered_df = df[df['Age'] > 28]\n",
    "print('Filtered DataFrame (Age > 28):\\n', filtered_df)"
   ]
  },
  {
   "cell_type": "markdown",
   "id": "223af598",
   "metadata": {},
   "source": [
    "## 5. Handling Missing Data\n",
    "Pandas provides methods to handle missing values."
   ]
  },
  {
   "cell_type": "code",
   "execution_count": null,
   "id": "285cb6d7",
   "metadata": {},
   "outputs": [],
   "source": [
    "# Creating a DataFrame with missing values\n",
    "data_with_nan = {'A': [1, np.nan, 3], 'B': [4, 5, np.nan]}\n",
    "df_nan = pd.DataFrame(data_with_nan)\n",
    "print('DataFrame with NaN:\\n', df_nan)\n",
    "\n",
    "# Filling missing values\n",
    "df_filled = df_nan.fillna(0)\n",
    "print('Filled NaN with 0:\\n', df_filled)"
   ]
  },
  {
   "cell_type": "markdown",
   "id": "054eae9f",
   "metadata": {},
   "source": [
    "## 6. Sorting & Grouping Data"
   ]
  },
  {
   "cell_type": "code",
   "execution_count": null,
   "id": "22c1c849",
   "metadata": {},
   "outputs": [],
   "source": [
    "# Sorting by Age\n",
    "df_sorted = df.sort_values(by='Age', ascending=False)\n",
    "print('Sorted DataFrame:\\n', df_sorted)"
   ]
  },
  {
   "cell_type": "code",
   "execution_count": null,
   "id": "db992e64",
   "metadata": {},
   "outputs": [],
   "source": [
    "# Grouping by a column (Example: Summing salaries by Age)\n",
    "df_grouped = df.groupby('Age')['Salary'].sum()\n",
    "print('Grouped Data (Salary by Age):\\n', df_grouped)"
   ]
  },
  {
   "cell_type": "markdown",
   "id": "ffe2799a",
   "metadata": {},
   "source": [
    "## 7. Merging & Joining DataFrames"
   ]
  },
  {
   "cell_type": "code",
   "execution_count": null,
   "id": "15b899b0",
   "metadata": {},
   "outputs": [],
   "source": [
    "# Creating another DataFrame\n",
    "df2 = pd.DataFrame({'Name': ['Alice', 'Bob'], 'Department': ['HR', 'IT']})\n",
    "\n",
    "# Merging DataFrames on 'Name'\n",
    "df_merged = pd.merge(df, df2, on='Name', how='inner')\n",
    "print('Merged DataFrame:\\n', df_merged)"
   ]
  },
  {
   "cell_type": "markdown",
   "id": "11ba1bc1",
   "metadata": {},
   "source": [
    "## 8. Basic Data Analysis\n",
    "Pandas provides various functions for analyzing data."
   ]
  },
  {
   "cell_type": "code",
   "execution_count": null,
   "id": "d585ac53",
   "metadata": {},
   "outputs": [],
   "source": [
    "# Descriptive statistics\n",
    "print(df.describe())"
   ]
  },
  {
   "cell_type": "code",
   "execution_count": null,
   "id": "15d0917e",
   "metadata": {},
   "outputs": [],
   "source": [
    "# Mean, Correlation, and Unique Values\n",
    "print('Mean Age:', df['Age'].mean())\n",
    "print('Correlation:\\n', df.corr())\n",
    "print('Unique Names:', df['Name'].unique())"
   ]
  },
  {
   "cell_type": "markdown",
   "id": "a6c82092",
   "metadata": {},
   "source": [
    "## Summary\n",
    "- **Series & DataFrames**: Core data structures.\n",
    "- **Reading/Writing Data**: Supports CSV, Excel, JSON.\n",
    "- **Selection & Filtering**: Extract and filter data.\n",
    "- **Missing Data Handling**: Fill or drop NaN values.\n",
    "- **Sorting & Grouping**: Organize and summarize data.\n",
    "- **Merging & Joining**: Combine datasets.\n",
    "- **Basic Data Analysis**: Compute statistics and insights."
   ]
  }
 ],
 "metadata": {
  "kernelspec": {
   "display_name": "3.11.9",
   "language": "python",
   "name": "python3"
  },
  "language_info": {
   "codemirror_mode": {
    "name": "ipython",
    "version": 3
   },
   "file_extension": ".py",
   "mimetype": "text/x-python",
   "name": "python",
   "nbconvert_exporter": "python",
   "pygments_lexer": "ipython3",
   "version": "3.11.9"
  }
 },
 "nbformat": 4,
 "nbformat_minor": 5
}
