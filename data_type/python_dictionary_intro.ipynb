{
 "cells": [
  {
   "cell_type": "markdown",
   "metadata": {},
   "source": [
    "# Introduction to Dictionaries in Python\n",
    "\n",
    "A **dictionary** in Python is a collection of key-value pairs. Each key is unique and maps to a specific value. Dictionaries are mutable and allow for efficient lookups, insertions, and deletions.\n",
    "\n",
    "## Creating a Dictionary\n",
    "A dictionary is created using curly braces `{}` or the `dict()` constructor."
   ]
  },
  {
   "cell_type": "code",
   "execution_count": null,
   "metadata": {},
   "outputs": [],
   "source": [
    "# Creating a dictionary\n",
    "student = {\n",
    "    'name': 'Alice',\n",
    "    'age': 20,\n",
    "    'grade': 'A'\n",
    "}\n",
    "\n",
    "students = [\"Alice\", \"Bob\", \"Jen\", \"Mose\", \"Caleb\"];\n",
    "print(student)"
   ]
  },
  {
   "cell_type": "markdown",
   "metadata": {},
   "source": [
    "## Accessing Values\n",
    "Values can be accessed using their respective keys."
   ]
  },
  {
   "cell_type": "code",
   "execution_count": null,
   "metadata": {},
   "outputs": [
    {
     "name": "stdout",
     "output_type": "stream",
     "text": [
      "Trang\n",
      "20\n",
      "Bao\n",
      "['Hanh', 'Huong', 'Tien']\n",
      "20\n",
      "{'name': 'Trang', 'age': 20, 'grade': 'A', 'boyfriend': 'Bao', 'friends': ['Hanh', 'Huong', 'Tien']}\n",
      "dict_keys(['name', 'age', 'grade', 'boyfriend', 'friends'])\n",
      "dict_values(['Trang', 20, 'A', 'Bao', ['Hanh', 'Huong', 'Tien']])\n",
      "dict_items([('name', 'Trang'), ('age', 20), ('grade', 'A'), ('boyfriend', 'Bao'), ('friends', ['Hanh', 'Huong', 'Tien'])])\n"
     ]
    }
   ],
   "source": [
    "student = {\n",
    "    'name': 'Trang',\n",
    "    'age': 20,\n",
    "    'grade': 'A',\n",
    "    'boyfriend': 'Bao',\n",
    "    'friends': [\"Hanh\", \"Huong\", \"Hien\"]\n",
    "}\n",
    "# Accessing values\n",
    "print(student['name'])  # Alice\n",
    "print(student.get('age'))  # 20\n",
    "print(student.get('boyfriend'))\n",
    "  # None\n",
    "\n",
    "student.get('friends')[2] = \"Tien\"\n",
    "\n",
    "print(student.get('friends'))\n",
    "\n",
    "print(student.get('age'))  #\n",
    "\n",
    "print(student)\n",
    "\n",
    "print(student.keys())\n",
    "\n",
    "print(student.values())\n",
    "\n",
    "\n",
    "print(student.items())\n",
    "\n",
    "\n",
    "for a in [1,2,3,4]:\n",
    "    print(a)\n",
    "\n",
    "for key, value in student.items():\n",
    "    print(key, value)\n",
    "\n"
   ]
  },
  {
   "cell_type": "markdown",
   "metadata": {},
   "source": [
    "## Modifying a Dictionary\n",
    "You can add, update, or delete key-value pairs in a dictionary."
   ]
  },
  {
   "cell_type": "code",
   "execution_count": null,
   "metadata": {},
   "outputs": [],
   "source": [
    "# Adding a new key-value pair\n",
    "student['city'] = 'New York'\n",
    "print(student)"
   ]
  },
  {
   "cell_type": "code",
   "execution_count": null,
   "metadata": {},
   "outputs": [],
   "source": [
    "# Updating an existing value\n",
    "student['age'] = 21\n",
    "print(student)"
   ]
  },
  {
   "cell_type": "code",
   "execution_count": null,
   "metadata": {},
   "outputs": [],
   "source": [
    "# Removing a key-value pair\n",
    "del student['grade']\n",
    "print(student)"
   ]
  },
  {
   "cell_type": "markdown",
   "metadata": {},
   "source": []
  },
  {
   "cell_type": "markdown",
   "metadata": {},
   "source": [
    "## Dictionary Methods\n",
    "Python dictionaries have several useful methods:\n",
    "- `keys()`: Returns all keys in the dictionary.\n",
    "- `values()`: Returns all values.\n",
    "- `items()`: Returns key-value pairs as tuples.\n",
    "- `pop(key)`: Removes the specified key.\n",
    "- `update(dict)`: Merges another dictionary."
   ]
  },
  {
   "cell_type": "code",
   "execution_count": null,
   "metadata": {},
   "outputs": [],
   "source": [
    "# Demonstrating dictionary methods\n",
    "print(student.keys())\n",
    "print(student.values())\n",
    "print(student.items())"
   ]
  },
  {
   "cell_type": "markdown",
   "metadata": {},
   "source": [
    "## Looping Through a Dictionary\n",
    "You can iterate over a dictionary using a `for` loop."
   ]
  },
  {
   "cell_type": "code",
   "execution_count": 13,
   "metadata": {},
   "outputs": [
    {
     "name": "stdout",
     "output_type": "stream",
     "text": [
      "HCM 8.4\n",
      "HN 7.6\n"
     ]
    }
   ],
   "source": [
    "population = {\n",
    "    \"HCM\": 8.4,\n",
    "    \"HN\": 7.6,\n",
    "    \"DN\": 1.8,\n",
    "    \"HP\": 1.5\n",
    "}\n",
    "# Looping through dictionary\n",
    "for key, value in population.items():\n",
    "    if(value> 5):\n",
    "        print(key, value)\n"
   ]
  },
  {
   "cell_type": "markdown",
   "metadata": {},
   "source": [
    "## Conclusion\n",
    "Dictionaries in Python are powerful and efficient for storing and managing data using key-value pairs. Understanding dictionary operations is crucial for writing effective Python programs."
   ]
  }
 ],
 "metadata": {
  "kernelspec": {
   "display_name": "Python 3",
   "language": "python",
   "name": "python3"
  },
  "language_info": {
   "codemirror_mode": {
    "name": "ipython",
    "version": 3
   },
   "file_extension": ".py",
   "mimetype": "text/x-python",
   "name": "python",
   "nbconvert_exporter": "python",
   "pygments_lexer": "ipython3",
   "version": "3.10.16"
  }
 },
 "nbformat": 4,
 "nbformat_minor": 4
}
